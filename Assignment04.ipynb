{
  "nbformat": 4,
  "nbformat_minor": 0,
  "metadata": {
    "colab": {
      "provenance": []
    },
    "kernelspec": {
      "name": "python3",
      "display_name": "Python 3"
    },
    "language_info": {
      "name": "python"
    }
  },
  "cells": [
    {
      "cell_type": "markdown",
      "source": [
        "#1. LeetCode 225"
      ],
      "metadata": {
        "id": "Ya2TnOVwnE5n"
      }
    },
    {
      "cell_type": "code",
      "source": [
        "from collections import deque\n",
        "\n",
        "class MyStack:\n",
        "\n",
        "    def __init__(self):\n",
        "        self.q1 = deque()\n",
        "        self.q2 = deque()\n",
        "\n",
        "    def push(self, x: int) -> None:\n",
        "        # 새 원소는 q2에 먼저 넣고\n",
        "        self.q2.append(x)\n",
        "\n",
        "        # q1에 있는 모든 원소를 q2로 이동\n",
        "        while self.q1:\n",
        "            self.q2.append(self.q1.popleft())\n",
        "\n",
        "        # q1과 q2를 스왑 → q1이 항상 top이 먼저 오게 됨\n",
        "        self.q1, self.q2 = self.q2, self.q1\n",
        "\n",
        "    def pop(self) -> int:\n",
        "        return self.q1.popleft() if self.q1 else None\n",
        "\n",
        "    def top(self) -> int:\n",
        "        return self.q1[0] if self.q1 else None\n",
        "\n",
        "    def empty(self) -> bool:\n",
        "        return not self.q1\n",
        "\n"
      ],
      "metadata": {
        "id": "uPP3F9J0nDgx"
      },
      "execution_count": null,
      "outputs": []
    },
    {
      "cell_type": "markdown",
      "source": [
        "#2. LeetCode 232\n"
      ],
      "metadata": {
        "id": "KuB-RFBqvibv"
      }
    },
    {
      "cell_type": "code",
      "source": [
        "class MyQueue:\n",
        "\n",
        "    def __init__(self):\n",
        "        self.stack1 = []  # input stack\n",
        "        self.stack2 = []  # output stack\n",
        "\n",
        "    def push(self, x: int) -> None:\n",
        "        self.stack1.append(x)\n",
        "\n",
        "    def pop(self) -> int:\n",
        "        if not self.stack2:\n",
        "            while self.stack1:\n",
        "                self.stack2.append(self.stack1.pop())\n",
        "        return self.stack2.pop() if self.stack2 else None\n",
        "\n",
        "    def peek(self) -> int:\n",
        "        if not self.stack2:\n",
        "            while self.stack1:\n",
        "                self.stack2.append(self.stack1.pop())\n",
        "        return self.stack2[-1] if self.stack2 else None\n",
        "\n",
        "    def empty(self) -> bool:\n",
        "        return not self.stack1 and not self.stack2\n"
      ],
      "metadata": {
        "id": "pFpt_XHyvoWE"
      },
      "execution_count": null,
      "outputs": []
    },
    {
      "cell_type": "markdown",
      "source": [
        "#3. Chaptor 7\n",
        "##1번\n"
      ],
      "metadata": {
        "id": "NCq5V6iWVRmA"
      }
    },
    {
      "cell_type": "code",
      "source": [
        "#1번\n",
        "class ListQueue:\n",
        "  def __init__(self):\n",
        "    self.__queue=[]\n",
        "\n",
        "  def enqueue(self,x):\n",
        "    self.__queue.insert(0,x) #리스트의 첫부분에 넣어줘야하기때문에 insert(0)으로 설정하였다.\n",
        "\n",
        "  def dequeue(self):\n",
        "\n",
        "    return self.__queue.pop()\n",
        "\n",
        "\n",
        "  def front(self):\n",
        "    return self.__queue[-1]\n",
        "\n",
        "  def isEmpty(self)->bool:\n",
        "    return len(self.__queue)==0\n",
        "\n",
        "  def dequeueAll(self):\n",
        "    self.__queue.clear()\n",
        "\n",
        "#태스트 예시\n",
        "#  def printq(self):\n",
        "#    print(self.__queue)\n",
        "\n",
        "#s=ListQueue()\n",
        "#s.enqueue(3);\n",
        "#s.enqueue(5);\n",
        "#s.enqueue(4);\n",
        "#s.enqueue(6);\n",
        "#s.dequeue();\n",
        "#s.dequeue();\n",
        "#s.enqueue(7);\n",
        "#s.dequeue();\n",
        "#s.printq()"
      ],
      "metadata": {
        "colab": {
          "base_uri": "https://localhost:8080/"
        },
        "id": "1bFsZ3VGxHwy",
        "outputId": "2a23c190-973e-49c3-d5f2-dee4a2066697"
      },
      "execution_count": null,
      "outputs": [
        {
          "output_type": "stream",
          "name": "stdout",
          "text": [
            "[7, 6]\n"
          ]
        }
      ]
    },
    {
      "cell_type": "markdown",
      "source": [
        "##2번"
      ],
      "metadata": {
        "id": "fqIYk-Q6V35t"
      }
    },
    {
      "cell_type": "code",
      "source": [
        "#2번\n",
        "from collections import deque\n",
        "\n",
        "def is_in_language(s):\n",
        "    q = deque()\n",
        "    i = 0\n",
        "\n",
        "    # $ 앞까지 큐에 삽입\n",
        "    while i < len(s) and s[i] != '$':\n",
        "        q.append(s[i])\n",
        "        i += 1\n",
        "\n",
        "    # $가 없다면 false\n",
        "    if i == len(s):\n",
        "        return False\n",
        "\n",
        "    i += 1  # $ 다음부터 비교 시작\n",
        "\n",
        "    # 큐에서 pop하면서 역순 확인\n",
        "    while i < len(s):\n",
        "        if not q or q.pop() != s[i]:  # pop은 뒤에서 꺼내기 (역순)\n",
        "            return False\n",
        "        i += 1\n",
        "\n",
        "    return not q  # 큐가 비었으면 true\n",
        "\n",
        "# 테스트 예시\n",
        "#print(is_in_language(\"abc$cba\"))  # True\n",
        "#print(is_in_language(\"abc$abc\"))  # False\n",
        "\n",
        "\n"
      ],
      "metadata": {
        "id": "SLzmMjLkzXqV"
      },
      "execution_count": null,
      "outputs": []
    },
    {
      "cell_type": "markdown",
      "source": [
        "##3번\n",
        "\n"
      ],
      "metadata": {
        "id": "rd9-9IM7WALX"
      }
    },
    {
      "cell_type": "code",
      "source": [
        "#3번\n",
        "def copy_linked_queue(a):\n",
        "    b = LinkedQueue()\n",
        "    temp = LinkedQueue()\n",
        "\n",
        "    # a의 내용을 b와 temp에 복사\n",
        "    while not a.is_empty():\n",
        "        item = a.dequeue()\n",
        "        b.enqueue(item)\n",
        "        temp.enqueue(item)\n",
        "\n",
        "    # a 복구\n",
        "    while not temp.is_empty():\n",
        "        a.enqueue(temp.dequeue())\n",
        "\n",
        "    return b\n"
      ],
      "metadata": {
        "id": "fEvwa5_v-mEd"
      },
      "execution_count": null,
      "outputs": []
    },
    {
      "cell_type": "markdown",
      "source": [
        "#4번"
      ],
      "metadata": {
        "id": "Rx0GylCxWKYJ"
      }
    },
    {
      "cell_type": "code",
      "source": [
        "#4번\n",
        "\n",
        "class Stack:\n",
        "  def __init__(self):\n",
        "    self.__q1=[]\n",
        "    self.__q2=[]\n",
        "\n",
        "  def push(self, x: int) -> None:\n",
        "        # 새 원소는 q2에 먼저 넣고\n",
        "        self.q2.append(x)\n",
        "\n",
        "        # q1에 있는 모든 원소를 q2로 이동\n",
        "        while self.q1:\n",
        "            self.q2.append(self.q1.popleft())\n",
        "\n",
        "        # q1과 q2를 스왑 → q1이 항상 top이 먼저 오게 됨\n",
        "        self.q1, self.q2 = self.q2, self.q1\n",
        "\n",
        "  def pop(self) -> int:\n",
        "        return self.q1.popleft() if self.q1 else None\n",
        "\n",
        "\n"
      ],
      "metadata": {
        "id": "Hl2JmNg74cV8"
      },
      "execution_count": null,
      "outputs": []
    },
    {
      "cell_type": "markdown",
      "source": [
        "##5번"
      ],
      "metadata": {
        "id": "FbENde_XWNy8"
      }
    },
    {
      "cell_type": "code",
      "source": [
        "#5번\n",
        "class Queue:\n",
        "\n",
        "    def __init__(self):\n",
        "        self.stack1 = []  # input stack\n",
        "        self.stack2 = []  # output stack\n",
        "\n",
        "    def enqueue(self, x: int) -> None:\n",
        "        self.stack1.append(x)\n",
        "\n",
        "    def dequeue(self) -> int:\n",
        "        if not self.stack2:\n",
        "            while self.stack1:\n",
        "                self.stack2.append(self.stack1.pop())\n",
        "        return self.stack2.pop() if self.stack2 else None\n"
      ],
      "metadata": {
        "id": "1UaBXXvE4keA"
      },
      "execution_count": null,
      "outputs": []
    },
    {
      "cell_type": "markdown",
      "source": [
        "##6번"
      ],
      "metadata": {
        "id": "SS-fKhL-WQZ-"
      }
    },
    {
      "cell_type": "code",
      "source": [
        "정답: enqueue() 수행 시간: O(1) / dequeue() 수행 시간: O(1)\n"
      ],
      "metadata": {
        "id": "FnUvNACaz75n"
      },
      "execution_count": null,
      "outputs": []
    },
    {
      "cell_type": "markdown",
      "source": [
        "\n",
        "풀이:\n",
        "노드를 탐색할 필요없이 바로 뒤에서 추가하고 앞에서 삭제를 하면 되기 때문이다."
      ],
      "metadata": {
        "id": "NQ7PXhP-wnCi"
      }
    },
    {
      "cell_type": "markdown",
      "source": [
        "##7번\n"
      ],
      "metadata": {
        "id": "IfvPzzFGWdED"
      }
    },
    {
      "cell_type": "code",
      "source": [
        "정답: enqueue() 수행 시간: O(n) /  dequeue() 수행 시간: O(1)\n"
      ],
      "metadata": {
        "id": "6OLGBlctz_Du"
      },
      "execution_count": null,
      "outputs": []
    },
    {
      "cell_type": "markdown",
      "source": [
        "\n",
        "\n",
        "풀이:\n",
        "연결리스트에서의 enqueue()는 노드를 끝까지 탐색해야하고 dequeue()는 첫 노드를 제거하면 되기 때문이다."
      ],
      "metadata": {
        "id": "b-4bj2s6w84r"
      }
    },
    {
      "cell_type": "markdown",
      "source": [
        "##8번"
      ],
      "metadata": {
        "id": "T3a3GOXmWgM8"
      }
    },
    {
      "cell_type": "code",
      "source": [
        "#8번\n",
        "\n",
        "class Deque:\n",
        "    def __init__(self):\n",
        "        self.__queue = []\n",
        "\n",
        "    def enqueue(self, x):  # 뒤에 삽입\n",
        "        self.__queue.append(x)\n",
        "\n",
        "    def enqueueFront(self, x):  # 앞에 삽입\n",
        "        self.__queue.insert(0, x)\n",
        "\n",
        "    def dequeue(self):  # 앞에서 삭제\n",
        "        if self.isEmpty():\n",
        "            return None\n",
        "        return self.__queue.pop(0)\n",
        "\n",
        "    def dequeueRear(self):  # 뒤에서 삭제\n",
        "        if self.isEmpty():\n",
        "            return None\n",
        "        return self.__queue.pop()\n",
        "\n",
        "    def front(self):  # 앞쪽 값 확인\n",
        "        if self.isEmpty():\n",
        "            return None\n",
        "        return self.__queue[0]\n",
        "\n",
        "    def rear(self):  # 뒤쪽 값 확인\n",
        "        if self.isEmpty():\n",
        "            return None\n",
        "        return self.__queue[-1]\n",
        "\n",
        "    def isEmpty(self) -> bool:\n",
        "        return len(self.__queue) == 0\n",
        "\n",
        "    def dequeueAll(self):  # 모두 제거\n",
        "        self.__queue.clear()\n",
        "\n",
        "    def printQueue(self):  # 디버깅용 출력\n",
        "        print(\"Deque from front:\", end=' ')\n",
        "        for item in self.__queue:\n",
        "            print(item, end=' ')\n",
        "        print()\n"
      ],
      "metadata": {
        "id": "t5vpBPYz_d4A"
      },
      "execution_count": null,
      "outputs": []
    }
  ]
}